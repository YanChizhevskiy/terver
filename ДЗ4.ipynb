{
 "cells": [
  {
   "cell_type": "markdown",
   "metadata": {},
   "source": [
    "<h1>Домашняя работа №4</h1>"
   ]
  },
  {
   "cell_type": "code",
   "execution_count": 20,
   "metadata": {},
   "outputs": [],
   "source": [
    "import numpy as np\n",
    "from scipy.special import erf \n",
    "import matplotlib.pyplot  as plt"
   ]
  },
  {
   "cell_type": "markdown",
   "metadata": {},
   "source": [
    "Задача 1\n",
    "О непрерывной равномерно распределённой случайной величине B известно, что её дисперсия равна 0.2. Можно ли найти правую границу величины B и её среднее значение зная, что левая граница равна 0.5? Если да, найдите их.\n"
   ]
  },
  {
   "cell_type": "markdown",
   "metadata": {},
   "source": [
    "b = a + sqrt(12*D(x))"
   ]
  },
  {
   "cell_type": "code",
   "execution_count": 21,
   "metadata": {},
   "outputs": [],
   "source": [
    "def my_mean(left_value, right_value):\n",
    "    return (left_value + right_value) / 2"
   ]
  },
  {
   "cell_type": "code",
   "execution_count": 22,
   "metadata": {},
   "outputs": [
    {
     "data": {
      "text/plain": [
       "2.049193338482967"
      ]
     },
     "execution_count": 22,
     "metadata": {},
     "output_type": "execute_result"
    }
   ],
   "source": [
    "a = 0.5\n",
    "b = 0.5+np.sqrt(12*0.2)\n",
    "b"
   ]
  },
  {
   "cell_type": "code",
   "execution_count": 23,
   "metadata": {},
   "outputs": [
    {
     "data": {
      "text/plain": [
       "1.2745966692414834"
      ]
     },
     "execution_count": 23,
     "metadata": {},
     "output_type": "execute_result"
    }
   ],
   "source": [
    "my_mean(a,b)"
   ]
  },
  {
   "cell_type": "markdown",
   "metadata": {},
   "source": [
    "Задача 2\n",
    "Коробки с шоколадом упаковываются автоматически. Их средняя масса равна 1.06 кг. Известно, что 5% коробок имеют массу, меньшую 1 кг. Найдите: а) среднее квадратическое отклонение массы коробки, б) процент коробок, имеющих массу больше 1.1 кг.\n",
    "Подсказка. Найдите такое значение scale, для которого значение cdf(x=1, loc=1.06, scale=scale) близко к 0.05. Точности 0.0001 будет достаточно."
   ]
  },
  {
   "cell_type": "code",
   "execution_count": 31,
   "metadata": {},
   "outputs": [],
   "source": [
    "def my_cdf(loc: float, scale: float, x: float) -> float:\n",
    "    return (1 + erf((x - loc) / (scale * np.sqrt(2)))) / 2\n",
    "\n",
    "def my_current_acc(loc, x, acc, delta):\n",
    "    p_min = abs(my_cdf(loc, delta + acc, x) - 0.05)\n",
    "    scale = delta + acc\n",
    "    i = 1\n",
    "    while scale != delta + (i-1)*acc:\n",
    "        i += 1\n",
    "        p = abs(my_cdf(loc, delta + i*acc, x) - 0.05)\n",
    "        if p < p_min:\n",
    "            p_min = p\n",
    "            scale = delta + i*acc\n",
    "    return scale\n",
    "    \n",
    "def my_acc(loc, x, acc, delta = 0):\n",
    "    if acc == 0.01:\n",
    "        scale = my_current_acc(loc, x, acc, delta)\n",
    "    else:\n",
    "        delta = my_acc(loc, x, acc*10) - acc*10\n",
    "        scale = my_current_acc(loc, x, acc, delta)   \n",
    "    return scale"
   ]
  },
  {
   "cell_type": "code",
   "execution_count": 32,
   "metadata": {},
   "outputs": [],
   "source": [
    "loc = 1.06\n",
    "x = 1"
   ]
  },
  {
   "cell_type": "code",
   "execution_count": 33,
   "metadata": {},
   "outputs": [
    {
     "name": "stdout",
     "output_type": "stream",
     "text": [
      "0.03647999999999999\n"
     ]
    }
   ],
   "source": [
    "sigma = my_acc(loc, x, 0.00001)\n",
    "print(sigma)"
   ]
  },
  {
   "cell_type": "code",
   "execution_count": 34,
   "metadata": {},
   "outputs": [
    {
     "name": "stdout",
     "output_type": "stream",
     "text": [
      "0.8635680699777768\n"
     ]
    }
   ],
   "source": [
    "print(my_cdf(loc, sigma, 1.1))"
   ]
  },
  {
   "cell_type": "markdown",
   "metadata": {},
   "source": [
    "Задача 3\n",
    "Коробка содержит 30 конфет. Известно, что масса каждой конфеты распределена равномерно в промежутке от 12 до 14 граммов. Используя центральную предельную теорему, найти вероятность, что масса всей коробки будет: а) меньше 390 граммов, б) больше 395 граммов, в) от 380 до 400 граммов.\n",
    "Массой самой коробки можно пренебречь."
   ]
  },
  {
   "cell_type": "code",
   "execution_count": 35,
   "metadata": {},
   "outputs": [
    {
     "name": "stdout",
     "output_type": "stream",
     "text": [
      "0.5\n",
      "0.056923149003329065\n",
      "0.9984345977419975\n"
     ]
    }
   ],
   "source": [
    "n = 30\n",
    "M = n * (14+12) / 2\n",
    "sigma = (n * ( (14-12)**2 / 12 ))**0.5\n",
    "\n",
    "# а) меньше 390 граммов\n",
    "print(my_cdf(M, sigma, 390))\n",
    "# б) больше 395 граммов\n",
    "print(1 - my_cdf(M, sigma, 395))\n",
    "# в) от 380 до 400 граммов\n",
    "print(my_cdf(M, sigma, 400) - my_cdf(M, sigma, 380))"
   ]
  },
  {
   "cell_type": "code",
   "execution_count": null,
   "metadata": {},
   "outputs": [],
   "source": []
  }
 ],
 "metadata": {
  "kernelspec": {
   "display_name": "Python 3",
   "language": "python",
   "name": "python3"
  },
  "language_info": {
   "codemirror_mode": {
    "name": "ipython",
    "version": 3
   },
   "file_extension": ".py",
   "mimetype": "text/x-python",
   "name": "python",
   "nbconvert_exporter": "python",
   "pygments_lexer": "ipython3",
   "version": "3.7.3"
  }
 },
 "nbformat": 4,
 "nbformat_minor": 2
}
